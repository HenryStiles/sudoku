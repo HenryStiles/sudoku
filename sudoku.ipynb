{
 "cells": [
  {
   "cell_type": "markdown",
   "metadata": {},
   "source": [
    "# Sudoku Solver and Visualization\n",
    "\n",
    "Visualize backtracking in a Sudoku Solver with HTML. \n"
   ]
  },
  {
   "cell_type": "code",
   "execution_count": null,
   "metadata": {},
   "outputs": [
    {
     "data": {
      "text/html": [
       "<table style=\"border-collapse: collapse; border: 2px solid black;font-size:20px\"><tr><td style=\"width: 40px; height: 40px;text-align: center; border-right:1px solid black; border-bottom: 1px solid black;\"><span style=\"color: black;\">4</span></td><td style=\"width: 40px; height: 40px;text-align: center; border-right:1px solid black; border-bottom: 1px solid black;\"><span style=\"color: black;\">8</span></td><td style=\"width: 40px; height: 40px;text-align: center; border-right:2px solid black; border-bottom: 1px solid black;\"><span style=\"color: blue;\">3</span></td><td style=\"width: 40px; height: 40px;text-align: center; border-right:1px solid black; border-bottom: 1px solid black;\"><span style=\"color: black;\">9</span></td><td style=\"width: 40px; height: 40px;text-align: center; border-right:1px solid black; border-bottom: 1px solid black;\"><span style=\"color: blue;\">2</span></td><td style=\"width: 40px; height: 40px;text-align: center; border-right:2px solid black; border-bottom: 1px solid black;\"><span style=\"color: black;\">1</span></td><td style=\"width: 40px; height: 40px;text-align: center; border-right:1px solid black; border-bottom: 1px solid black;\"><span style=\"color: blue;\">6</span></td><td style=\"width: 40px; height: 40px;text-align: center; border-right:1px solid black; border-bottom: 1px solid black;\"><span style=\"color: black;\">7</span></td><td style=\"width: 40px; height: 40px;text-align: center; border-right:1px solid black; border-bottom: 1px solid black;\"><span style=\"color: black;\">5</span></td></tr><tr><td style=\"width: 40px; height: 40px;text-align: center; border-right:1px solid black; border-bottom: 1px solid black;\"><span style=\"color: blue;\">9</span></td><td style=\"width: 40px; height: 40px;text-align: center; border-right:1px solid black; border-bottom: 1px solid black;\"><span style=\"color: black;\">6</span></td><td style=\"width: 40px; height: 40px;text-align: center; border-right:2px solid black; border-bottom: 1px solid black;\"><span style=\"color: black;\">7</span></td><td style=\"width: 40px; height: 40px;text-align: center; border-right:1px solid black; border-bottom: 1px solid black;\"><span style=\"color: blue;\">3</span></td><td style=\"width: 40px; height: 40px;text-align: center; border-right:1px solid black; border-bottom: 1px solid black;\"><span style=\"color: black;\">4</span></td><td style=\"width: 40px; height: 40px;text-align: center; border-right:2px solid black; border-bottom: 1px solid black;\"><span style=\"color: blue;\">5</span></td><td style=\"width: 40px; height: 40px;text-align: center; border-right:1px solid black; border-bottom: 1px solid black;\"><span style=\"color: black;\">8</span></td><td style=\"width: 40px; height: 40px;text-align: center; border-right:1px solid black; border-bottom: 1px solid black;\"><span style=\"color: black;\">2</span></td><td style=\"width: 40px; height: 40px;text-align: center; border-right:1px solid black; border-bottom: 1px solid black;\"><span style=\"color: blue;\">1</span></td></tr><tr><td style=\"width: 40px; height: 40px;text-align: center; border-right:1px solid black; border-bottom: 2px solid black;\"><span style=\"color: black;\">2</span></td><td style=\"width: 40px; height: 40px;text-align: center; border-right:1px solid black; border-bottom: 2px solid black;\"><span style=\"color: black;\">5</span></td><td style=\"width: 40px; height: 40px;text-align: center; border-right:2px solid black; border-bottom: 2px solid black;\"><span style=\"color: blue;\">1</span></td><td style=\"width: 40px; height: 40px;text-align: center; border-right:1px solid black; border-bottom: 2px solid black;\"><span style=\"color: blue;\">8</span></td><td style=\"width: 40px; height: 40px;text-align: center; border-right:1px solid black; border-bottom: 2px solid black;\"><span style=\"color: black;\">7</span></td><td style=\"width: 40px; height: 40px;text-align: center; border-right:2px solid black; border-bottom: 2px solid black;\"><span style=\"color: blue;\">6</span></td><td style=\"width: 40px; height: 40px;text-align: center; border-right:1px solid black; border-bottom: 2px solid black;\"><span style=\"color: blue;\">4</span></td><td style=\"width: 40px; height: 40px;text-align: center; border-right:1px solid black; border-bottom: 2px solid black;\"><span style=\"color: black;\">9</span></td><td style=\"width: 40px; height: 40px;text-align: center; border-right:1px solid black; border-bottom: 2px solid black;\"><span style=\"color: black;\">3</span></td></tr><tr><td style=\"width: 40px; height: 40px;text-align: center; border-right:1px solid black; border-bottom: 1px solid black;\"><span style=\"color: black;\">5</span></td><td style=\"width: 40px; height: 40px;text-align: center; border-right:1px solid black; border-bottom: 1px solid black;\"><span style=\"color: black;\">4</span></td><td style=\"width: 40px; height: 40px;text-align: center; border-right:2px solid black; border-bottom: 1px solid black;\"><span style=\"color: blue;\">8</span></td><td style=\"width: 40px; height: 40px;text-align: center; border-right:1px solid black; border-bottom: 1px solid black;\"><span style=\"color: blue;\">1</span></td><td style=\"width: 40px; height: 40px;text-align: center; border-right:1px solid black; border-bottom: 1px solid black;\"><span style=\"color: black;\">3</span></td><td style=\"width: 40px; height: 40px;text-align: center; border-right:2px solid black; border-bottom: 1px solid black;\"><span style=\"color: blue;\">2</span></td><td style=\"width: 40px; height: 40px;text-align: center; border-right:1px solid black; border-bottom: 1px solid black;\"><span style=\"color: blue;\">9</span></td><td style=\"width: 40px; height: 40px;text-align: center; border-right:1px solid black; border-bottom: 1px solid black;\"><span style=\"color: black;\">6</span></td><td style=\"width: 40px; height: 40px;text-align: center; border-right:1px solid black; border-bottom: 1px solid black;\"><span style=\"color: black;\">7</span></td></tr><tr><td style=\"width: 40px; height: 40px;text-align: center; border-right:1px solid black; border-bottom: 1px solid black;\"><span style=\"color: blue;\">7</span></td><td style=\"width: 40px; height: 40px;text-align: center; border-right:1px solid black; border-bottom: 1px solid black;\"><span style=\"color: black;\">2</span></td><td style=\"width: 40px; height: 40px;text-align: center; border-right:2px solid black; border-bottom: 1px solid black;\"><span style=\"color: black;\">9</span></td><td style=\"width: 40px; height: 40px;text-align: center; border-right:1px solid black; border-bottom: 1px solid black;\"><span style=\"color: black;\">5</span></td><td style=\"width: 40px; height: 40px;text-align: center; border-right:1px solid black; border-bottom: 1px solid black;\"><span style=\"color: black;\">6</span></td><td style=\"width: 40px; height: 40px;text-align: center; border-right:2px solid black; border-bottom: 1px solid black;\"><span style=\"color: black;\">4</span></td><td style=\"width: 40px; height: 40px;text-align: center; border-right:1px solid black; border-bottom: 1px solid black;\"><span style=\"color: black;\">1</span></td><td style=\"width: 40px; height: 40px;text-align: center; border-right:1px solid black; border-bottom: 1px solid black;\"><span style=\"color: black;\">3</span></td><td style=\"width: 40px; height: 40px;text-align: center; border-right:1px solid black; border-bottom: 1px solid black;\"><span style=\"color: blue;\">8</span></td></tr><tr><td style=\"width: 40px; height: 40px;text-align: center; border-right:1px solid black; border-bottom: 2px solid black;\"><span style=\"color: black;\">3</span></td><td style=\"width: 40px; height: 40px;text-align: center; border-right:1px solid black; border-bottom: 2px solid black;\"><span style=\"color: black;\">1</span></td><td style=\"width: 40px; height: 40px;text-align: center; border-right:2px solid black; border-bottom: 2px solid black;\"><span style=\"color: blue;\">6</span></td><td style=\"width: 40px; height: 40px;text-align: center; border-right:1px solid black; border-bottom: 2px solid black;\"><span style=\"color: blue;\">7</span></td><td style=\"width: 40px; height: 40px;text-align: center; border-right:1px solid black; border-bottom: 2px solid black;\"><span style=\"color: black;\">9</span></td><td style=\"width: 40px; height: 40px;text-align: center; border-right:2px solid black; border-bottom: 2px solid black;\"><span style=\"color: blue;\">8</span></td><td style=\"width: 40px; height: 40px;text-align: center; border-right:1px solid black; border-bottom: 2px solid black;\"><span style=\"color: blue;\">2</span></td><td style=\"width: 40px; height: 40px;text-align: center; border-right:1px solid black; border-bottom: 2px solid black;\"><span style=\"color: black;\">5</span></td><td style=\"width: 40px; height: 40px;text-align: center; border-right:1px solid black; border-bottom: 2px solid black;\"><span style=\"color: black;\">4</span></td></tr><tr><td style=\"width: 40px; height: 40px;text-align: center; border-right:1px solid black; border-bottom: 1px solid black;\"><span style=\"color: black;\">1</span></td><td style=\"width: 40px; height: 40px;text-align: center; border-right:1px solid black; border-bottom: 1px solid black;\"><span style=\"color: black;\">3</span></td><td style=\"width: 40px; height: 40px;text-align: center; border-right:2px solid black; border-bottom: 1px solid black;\"><span style=\"color: blue;\">2</span></td><td style=\"width: 40px; height: 40px;text-align: center; border-right:1px solid black; border-bottom: 1px solid black;\"><span style=\"color: blue;\">6</span></td><td style=\"width: 40px; height: 40px;text-align: center; border-right:1px solid black; border-bottom: 1px solid black;\"><span style=\"color: black;\">8</span></td><td style=\"width: 40px; height: 40px;text-align: center; border-right:2px solid black; border-bottom: 1px solid black;\"><span style=\"color: blue;\">9</span></td><td style=\"width: 40px; height: 40px;text-align: center; border-right:1px solid black; border-bottom: 1px solid black;\"><span style=\"color: blue;\">5</span></td><td style=\"width: 40px; height: 40px;text-align: center; border-right:1px solid black; border-bottom: 1px solid black;\"><span style=\"color: red;\">4</span></td><td style=\"width: 40px; height: 40px;text-align: center; border-right:1px solid black; border-bottom: 1px solid black;\"><span style=\"color: black;\"></span></td></tr><tr><td style=\"width: 40px; height: 40px;text-align: center; border-right:1px solid black; border-bottom: 1px solid black;\"><span style=\"color: blue;\">8</span></td><td style=\"width: 40px; height: 40px;text-align: center; border-right:1px solid black; border-bottom: 1px solid black;\"><span style=\"color: black;\"></span></td><td style=\"width: 40px; height: 40px;text-align: center; border-right:2px solid black; border-bottom: 1px solid black;\"><span style=\"color: black;\"></span></td><td style=\"width: 40px; height: 40px;text-align: center; border-right:1px solid black; border-bottom: 1px solid black;\"><span style=\"color: blue;\">2</span></td><td style=\"width: 40px; height: 40px;text-align: center; border-right:1px solid black; border-bottom: 1px solid black;\"><span style=\"color: black;\"></span></td><td style=\"width: 40px; height: 40px;text-align: center; border-right:2px solid black; border-bottom: 1px solid black;\"><span style=\"color: blue;\">3</span></td><td style=\"width: 40px; height: 40px;text-align: center; border-right:1px solid black; border-bottom: 1px solid black;\"><span style=\"color: black;\"></span></td><td style=\"width: 40px; height: 40px;text-align: center; border-right:1px solid black; border-bottom: 1px solid black;\"><span style=\"color: black;\"></span></td><td style=\"width: 40px; height: 40px;text-align: center; border-right:1px solid black; border-bottom: 1px solid black;\"><span style=\"color: blue;\">9</span></td></tr><tr><td style=\"width: 40px; height: 40px;text-align: center; border-right:1px solid black; border-bottom: 1px solid black;\"><span style=\"color: black;\"></span></td><td style=\"width: 40px; height: 40px;text-align: center; border-right:1px solid black; border-bottom: 1px solid black;\"><span style=\"color: black;\"></span></td><td style=\"width: 40px; height: 40px;text-align: center; border-right:2px solid black; border-bottom: 1px solid black;\"><span style=\"color: blue;\">5</span></td><td style=\"width: 40px; height: 40px;text-align: center; border-right:1px solid black; border-bottom: 1px solid black;\"><span style=\"color: black;\"></span></td><td style=\"width: 40px; height: 40px;text-align: center; border-right:1px solid black; border-bottom: 1px solid black;\"><span style=\"color: blue;\">1</span></td><td style=\"width: 40px; height: 40px;text-align: center; border-right:2px solid black; border-bottom: 1px solid black;\"><span style=\"color: black;\"></span></td><td style=\"width: 40px; height: 40px;text-align: center; border-right:1px solid black; border-bottom: 1px solid black;\"><span style=\"color: blue;\">3</span></td><td style=\"width: 40px; height: 40px;text-align: center; border-right:1px solid black; border-bottom: 1px solid black;\"><span style=\"color: black;\"></span></td><td style=\"width: 40px; height: 40px;text-align: center; border-right:1px solid black; border-bottom: 1px solid black;\"><span style=\"color: black;\"></span></td></tr></table>"
      ],
      "text/plain": [
       "<IPython.core.display.HTML object>"
      ]
     },
     "metadata": {},
     "output_type": "display_data"
    }
   ],
   "source": [
    "import numpy as np\n",
    "import pandas as pd\n",
    "from IPython.display import display, clear_output, HTML \n",
    "import time\n",
    "grid = np.array([\n",
    "    [0,0,3,0,2,0,6,0,0],\n",
    "    [9,0,0,3,0,5,0,0,1],\n",
    "    [0,0,1,8,0,6,4,0,0],\n",
    "    [0,0,8,1,0,2,9,0,0],\n",
    "    [7,0,0,0,0,0,0,0,8],\n",
    "    [0,0,6,7,0,8,2,0,0],\n",
    "    [0,0,2,6,0,9,5,0,0],\n",
    "    [8,0,0,2,0,3,0,0,9],\n",
    "    [0,0,5,0,1,0,3,0,0]]\n",
    ")\n",
    "\n",
    "grid_start = grid.copy()\n",
    "\n",
    "def display_grid(board, x, y, level):\n",
    "    clear_output(wait=True)\n",
    "    # Start the HTML string with the beginning of a table\n",
    "    html_str = '<table style=\"border-collapse: collapse; border: 2px solid black;font-size:20px\">'\n",
    "    for i, row in enumerate(board):\n",
    "        html_str += '<tr>'\n",
    "        \n",
    "        for j, num in enumerate(row):\n",
    "            cell_str = str(num) if num != 0 else ''  # Display 0 as empty string\n",
    "            # Highlight cells that are added in this iteration\n",
    "            if i == x and j == y:\n",
    "                cell_str = f'<span style=\"color: red;\">{cell_str}</span>'\n",
    "            elif grid_start[i][j] != 0:\n",
    "                cell_str = f'<span style=\"color: blue;\">{cell_str}</span>'\n",
    "            else:\n",
    "                cell_str = f'<span style=\"color: black;\">{cell_str}</span>'\n",
    "            # If the column is at the end of a block, add a right border\n",
    "            border_right = ('2px solid black'\n",
    "                                if (j + 1) % 3 == 0 and j != 8 \n",
    "                                else '1px solid black')\n",
    "            \n",
    "            # If the row is at the end of a block, add a bottom border\n",
    "            border_bottom = ('2px solid black'\n",
    "                                if (i + 1) % 3 == 0 and i != 8\n",
    "                                else '1px solid black')\n",
    "            \n",
    "            html_str += (f'<td style=\"width: 40px; height: 40px;'\n",
    "                         f'text-align: center; border-right:'\n",
    "                         f'{border_right}; border-bottom: {border_bottom};'\n",
    "                         f'\">{cell_str}</td>')\n",
    "        \n",
    "        html_str += '</tr>'\n",
    "    \n",
    "    html_str += '</table>'\n",
    "    display(HTML(html_str))\n",
    "    time.sleep(1)\n",
    "\n",
    "def possible(y, x, n):\n",
    "    global grid\n",
    "    for i in range(0, 9):\n",
    "        if grid[y][i] == n:\n",
    "            return False\n",
    "    for i in range(0, 9):\n",
    "        if grid[i][x] == n:\n",
    "            return False\n",
    "    x0 = (x // 3) * 3\n",
    "    y0 = (y // 3) * 3\n",
    "    for i in range(0, 3):\n",
    "        for j in range(0, 3):\n",
    "            if grid[y0 + i][x0 + j] == n:\n",
    "                return False\n",
    "    return True\n",
    "\n",
    "def solve(level):\n",
    "    global grid\n",
    "    for y in range(9):\n",
    "        for x in range(9):\n",
    "            if grid[y][x] == 0:\n",
    "                for n in range(1, 10):\n",
    "                    if possible(y, x, n):\n",
    "                        grid[y][x] = n\n",
    "                        display_grid(grid, y, x, level)\n",
    "                        solve(level+1)\n",
    "                        grid[y][x] = 0\n",
    "                        display_grid(grid, y, x, level)\n",
    "                return\n",
    "solve(0)"
   ]
  },
  {
   "cell_type": "code",
   "execution_count": null,
   "metadata": {},
   "outputs": [],
   "source": []
  }
 ],
 "metadata": {
  "kernelspec": {
   "display_name": "Python 3 (ipykernel)",
   "language": "python",
   "name": "python3"
  },
  "language_info": {
   "codemirror_mode": {
    "name": "ipython",
    "version": 3
   },
   "file_extension": ".py",
   "mimetype": "text/x-python",
   "name": "python",
   "nbconvert_exporter": "python",
   "pygments_lexer": "ipython3",
   "version": "3.11.5"
  }
 },
 "nbformat": 4,
 "nbformat_minor": 2
}
